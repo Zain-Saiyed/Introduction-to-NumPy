{
  "nbformat": 4,
  "nbformat_minor": 0,
  "metadata": {
    "colab": {
      "name": "Intro to Numpy.ipynb",
      "provenance": [],
      "collapsed_sections": []
    },
    "kernelspec": {
      "name": "python3",
      "display_name": "Python 3"
    }
  },
  "cells": [
    {
      "cell_type": "markdown",
      "metadata": {
        "id": "uCftBfIl6cIL"
      },
      "source": [
        "![index.png](data:image/png;base64,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)"
      ]
    },
    {
      "cell_type": "markdown",
      "metadata": {
        "id": "sBGmmZiWdB89"
      },
      "source": [
        "## NumPy ?\n",
        "A Package for scientific computing in Python. \n",
        "\n",
        "It is a library that provides a multidimensional array object, fast operation routines on arrays, mathematical, logical, shape manipulation, sorting, linear algebra, basic statistical operations.\n"
      ]
    },
    {
      "cell_type": "markdown",
      "metadata": {
        "id": "7diiAHzPhA_l"
      },
      "source": [
        "#### Installing the numpy Library :"
      ]
    },
    {
      "cell_type": "code",
      "metadata": {
        "id": "KK3xwBNec769",
        "outputId": "c68a904c-fab3-4740-be43-063f6e16e1bc",
        "colab": {
          "base_uri": "https://localhost:8080/"
        }
      },
      "source": [
        "pip install numpy "
      ],
      "execution_count": 1,
      "outputs": [
        {
          "output_type": "stream",
          "text": [
            "Requirement already satisfied: numpy in /usr/local/lib/python3.6/dist-packages (1.18.5)\n"
          ],
          "name": "stdout"
        }
      ]
    },
    {
      "cell_type": "markdown",
      "metadata": {
        "id": "F-rQcgn-hEFW"
      },
      "source": [
        "#### Importing numpy library:"
      ]
    },
    {
      "cell_type": "code",
      "metadata": {
        "id": "7qQz3kqEc74l"
      },
      "source": [
        "import numpy as np"
      ],
      "execution_count": 2,
      "outputs": []
    },
    {
      "cell_type": "markdown",
      "metadata": {
        "id": "k0nU5967hutO"
      },
      "source": [
        "#### Numpy Array vs Lists:\n"
      ]
    },
    {
      "cell_type": "code",
      "metadata": {
        "id": "N4kKZhFLc719",
        "outputId": "376f05d3-8865-4052-ba79-cbf80e78da67",
        "colab": {
          "base_uri": "https://localhost:8080/"
        }
      },
      "source": [
        "# List in python :\n",
        "sample = [1,2,3,4]\n",
        "sample"
      ],
      "execution_count": 3,
      "outputs": [
        {
          "output_type": "execute_result",
          "data": {
            "text/plain": [
              "[1, 2, 3, 4]"
            ]
          },
          "metadata": {
            "tags": []
          },
          "execution_count": 3
        }
      ]
    },
    {
      "cell_type": "code",
      "metadata": {
        "id": "IFYMBHSzc7ws",
        "outputId": "805238ea-24a0-43c4-e92a-aa302cecb3ec",
        "colab": {
          "base_uri": "https://localhost:8080/"
        }
      },
      "source": [
        "# Numpy array in python :\n",
        "np_sample = np.array(sample)\n",
        "np_sample"
      ],
      "execution_count": 4,
      "outputs": [
        {
          "output_type": "execute_result",
          "data": {
            "text/plain": [
              "array([1, 2, 3, 4])"
            ]
          },
          "metadata": {
            "tags": []
          },
          "execution_count": 4
        }
      ]
    },
    {
      "cell_type": "markdown",
      "metadata": {
        "id": "egf6xtI7jaCO"
      },
      "source": [
        "#### Datatype ?"
      ]
    },
    {
      "cell_type": "code",
      "metadata": {
        "id": "zyq3ozvoc7ud",
        "outputId": "fa132dd1-3314-455f-8a1e-1476bd7055cf",
        "colab": {
          "base_uri": "https://localhost:8080/"
        }
      },
      "source": [
        "# sample is of type list \n",
        "type(sample)"
      ],
      "execution_count": 5,
      "outputs": [
        {
          "output_type": "execute_result",
          "data": {
            "text/plain": [
              "list"
            ]
          },
          "metadata": {
            "tags": []
          },
          "execution_count": 5
        }
      ]
    },
    {
      "cell_type": "code",
      "metadata": {
        "id": "e7fcynGvc7sF",
        "outputId": "53505dc4-a596-4722-e85b-977a40b3b21a",
        "colab": {
          "base_uri": "https://localhost:8080/"
        }
      },
      "source": [
        "# whereas np_sample if of type numpy nd array\n",
        "type(np_sample)"
      ],
      "execution_count": 6,
      "outputs": [
        {
          "output_type": "execute_result",
          "data": {
            "text/plain": [
              "numpy.ndarray"
            ]
          },
          "metadata": {
            "tags": []
          },
          "execution_count": 6
        }
      ]
    },
    {
      "cell_type": "markdown",
      "metadata": {
        "id": "ROnPqCRc6wKY"
      },
      "source": [
        "\n",
        "#### What’s the difference between a Python list and a NumPy array?\n",
        "\n",
        "NumPy provides fast and efficient ways of creating and manipulating numerical data present inside numpy array. While a Python list can contain different data types within itself, **all of the elements in a NumPy array should be homogeneous**. The mathematical operations which are to be performed on arrays would be extremely inefficient if the arrays weren’t homogeneous in nature.\n",
        "\n",
        "NumPy is much more faster and lighter as compared to python lists. Since NumPy arrays occupies less memory to store data with mechanisms of specifying datatype. Hence, providing us the benefit of optimizing it even further.\n",
        "\n"
      ]
    },
    {
      "cell_type": "markdown",
      "metadata": {
        "id": "WBdugAVmpPmc"
      },
      "source": [
        "#### Array Indexing :\n",
        "\n",
        "Array indexing in numpy array is same as that of in Lists, as shown below :"
      ]
    },
    {
      "cell_type": "code",
      "metadata": {
        "id": "CsHSIUK7pPCH",
        "outputId": "5fd26f65-f9b5-4e92-ce22-36061e634780",
        "colab": {
          "base_uri": "https://localhost:8080/"
        }
      },
      "source": [
        "print(\"Numpy array : \",np_sample)\n",
        "print()\n",
        "\n",
        "# First element \n",
        "first_element = np_sample[0]\n",
        "print(\"First element : \",first_element)\n",
        "# Third element \n",
        "print(\"Third element : \",np_sample[2])\n",
        "print()\n",
        "\n",
        "# Last element \n",
        "print(\"Last  element : \",np_sample[-1])\n",
        "# Third element \n",
        "print(\"Third element : \",np_sample[-2])  # Note"
      ],
      "execution_count": 7,
      "outputs": [
        {
          "output_type": "stream",
          "text": [
            "Numpy array :  [1 2 3 4]\n",
            "\n",
            "First element :  1\n",
            "Third element :  3\n",
            "\n",
            "Last  element :  4\n",
            "Third element :  3\n"
          ],
          "name": "stdout"
        }
      ]
    },
    {
      "cell_type": "markdown",
      "metadata": {
        "id": "LCtnt723q0yg"
      },
      "source": [
        "#### Multi-Dimensional Array :\n",
        "An array with more than once level of dimension. \n",
        "\n",
        "For example, a 2D array is an array consisting of rows and columns. "
      ]
    },
    {
      "cell_type": "code",
      "metadata": {
        "id": "nzeg6BUOpwak",
        "outputId": "b8f4a4ba-4b68-4cff-9637-91a30e7497af",
        "colab": {
          "base_uri": "https://localhost:8080/"
        }
      },
      "source": [
        "# 3 x 4 dimensional array\n",
        "# Number of rows    = 3\n",
        "# Number of columns = 4\n",
        "new_sample = [\n",
        "              [1,5,9,6 ],\n",
        "              [2,6,3,8 ],\n",
        "              [4,8,7,12],\n",
        "              ]\n",
        "X1 = np.array(new_sample)\n",
        "X1"
      ],
      "execution_count": 8,
      "outputs": [
        {
          "output_type": "execute_result",
          "data": {
            "text/plain": [
              "array([[ 1,  5,  9,  6],\n",
              "       [ 2,  6,  3,  8],\n",
              "       [ 4,  8,  7, 12]])"
            ]
          },
          "metadata": {
            "tags": []
          },
          "execution_count": 8
        }
      ]
    },
    {
      "cell_type": "markdown",
      "metadata": {
        "id": "DheGEtmYzEqQ"
      },
      "source": [
        "#### Dimension of array :\n",
        "Dimension refers to the shape of the NumPy array, which shows the number of rows and number of columns present in that array."
      ]
    },
    {
      "cell_type": "code",
      "metadata": {
        "id": "lqhMvdo1zEqT",
        "outputId": "fbbdabcf-a126-4290-ce27-f2d03d528e86",
        "colab": {
          "base_uri": "https://localhost:8080/"
        }
      },
      "source": [
        "print(\"NumPy array : \\n\",X1)\n",
        "print()\n",
        "print(\"Shape = \",X1.shape)"
      ],
      "execution_count": 9,
      "outputs": [
        {
          "output_type": "stream",
          "text": [
            "NumPy array : \n",
            " [[ 1  5  9  6]\n",
            " [ 2  6  3  8]\n",
            " [ 4  8  7 12]]\n",
            "\n",
            "Shape =  (3, 4)\n"
          ],
          "name": "stdout"
        }
      ]
    },
    {
      "cell_type": "markdown",
      "metadata": {
        "id": "FbFMTeyBrl4U"
      },
      "source": [
        "#### Indexing :\n",
        "Accessing a specific element(s) present inside the NumPy Array. "
      ]
    },
    {
      "cell_type": "code",
      "metadata": {
        "id": "cGmCZE_V4LNK",
        "outputId": "f53b13af-9b16-474c-ccec-71a7f89fd3b0",
        "colab": {
          "base_uri": "https://localhost:8080/"
        }
      },
      "source": [
        "print(\"Numpy Array : \\n\")\n",
        "print(X1)"
      ],
      "execution_count": 10,
      "outputs": [
        {
          "output_type": "stream",
          "text": [
            "Numpy Array : \n",
            "\n",
            "[[ 1  5  9  6]\n",
            " [ 2  6  3  8]\n",
            " [ 4  8  7 12]]\n"
          ],
          "name": "stdout"
        }
      ]
    },
    {
      "cell_type": "markdown",
      "metadata": {
        "id": "7rSV0VCe1H_X"
      },
      "source": [
        "Selecting the entire second row :"
      ]
    },
    {
      "cell_type": "code",
      "metadata": {
        "id": "jTIZ5kC9pwXv",
        "outputId": "f518508d-caa6-4fbc-82fa-59509b157989",
        "colab": {
          "base_uri": "https://localhost:8080/"
        }
      },
      "source": [
        "# Selecting second row\n",
        "X1[1]   "
      ],
      "execution_count": 11,
      "outputs": [
        {
          "output_type": "execute_result",
          "data": {
            "text/plain": [
              "array([2, 6, 3, 8])"
            ]
          },
          "metadata": {
            "tags": []
          },
          "execution_count": 11
        }
      ]
    },
    {
      "cell_type": "markdown",
      "metadata": {
        "id": "Fman2vGjr0Hr"
      },
      "source": [
        "In a multi-dimensional array, indexing can be done by **Comma-separated tuple of indices**.\n",
        "\n",
        "To access the element present at the **R** th row and **C** th column, it can be done by a Comma-separated tuple of row and column pair as : [ R , C ]\n",
        "\n",
        "Now, for example if we want value at second row, third column : "
      ]
    },
    {
      "cell_type": "code",
      "metadata": {
        "id": "A4waaMmmrxy2",
        "outputId": "99b6dca6-06d7-4fe0-cc57-529f860dec83",
        "colab": {
          "base_uri": "https://localhost:8080/"
        }
      },
      "source": [
        "# Selecting second row, third column value :\n",
        "X1[1,2]"
      ],
      "execution_count": 12,
      "outputs": [
        {
          "output_type": "execute_result",
          "data": {
            "text/plain": [
              "3"
            ]
          },
          "metadata": {
            "tags": []
          },
          "execution_count": 12
        }
      ]
    },
    {
      "cell_type": "code",
      "metadata": {
        "id": "vnMJUlbvrxuW",
        "outputId": "3d6071b0-4825-4118-f63c-db6dc6922d2b",
        "colab": {
          "base_uri": "https://localhost:8080/"
        }
      },
      "source": [
        "# Selecting first 2 rows and first 3 columns :\n",
        "X1[:2, :3]"
      ],
      "execution_count": 13,
      "outputs": [
        {
          "output_type": "execute_result",
          "data": {
            "text/plain": [
              "array([[1, 5, 9],\n",
              "       [2, 6, 3]])"
            ]
          },
          "metadata": {
            "tags": []
          },
          "execution_count": 13
        }
      ]
    },
    {
      "cell_type": "code",
      "metadata": {
        "id": "D1x8aittzUkz",
        "outputId": "f2f7ec31-0afb-4b55-e416-c18f6f16a6dc",
        "colab": {
          "base_uri": "https://localhost:8080/"
        }
      },
      "source": [
        "# Selecting all rows except first row :\n",
        "X1[1:]"
      ],
      "execution_count": 14,
      "outputs": [
        {
          "output_type": "execute_result",
          "data": {
            "text/plain": [
              "array([[ 2,  6,  3,  8],\n",
              "       [ 4,  8,  7, 12]])"
            ]
          },
          "metadata": {
            "tags": []
          },
          "execution_count": 14
        }
      ]
    },
    {
      "cell_type": "code",
      "metadata": {
        "id": "6YOPQV6d3kH-",
        "outputId": "95633502-1663-4b2d-b447-4fe47ebb9895",
        "colab": {
          "base_uri": "https://localhost:8080/"
        }
      },
      "source": [
        "# Selecting the entire second column :\n",
        "X1[:,1]"
      ],
      "execution_count": 15,
      "outputs": [
        {
          "output_type": "execute_result",
          "data": {
            "text/plain": [
              "array([5, 6, 8])"
            ]
          },
          "metadata": {
            "tags": []
          },
          "execution_count": 15
        }
      ]
    },
    {
      "cell_type": "code",
      "metadata": {
        "id": "i6mxpKeBzUiU",
        "outputId": "8d889184-41eb-4949-f011-0ca609ae53b7",
        "colab": {
          "base_uri": "https://localhost:8080/"
        }
      },
      "source": [
        "# Selecting all rows and last two columns :\n",
        "X1[:,2:]"
      ],
      "execution_count": 16,
      "outputs": [
        {
          "output_type": "execute_result",
          "data": {
            "text/plain": [
              "array([[ 9,  6],\n",
              "       [ 3,  8],\n",
              "       [ 7, 12]])"
            ]
          },
          "metadata": {
            "tags": []
          },
          "execution_count": 16
        }
      ]
    },
    {
      "cell_type": "markdown",
      "metadata": {
        "id": "hcnvUwZe1qS8"
      },
      "source": [
        "#### Updating values in NumPy array :"
      ]
    },
    {
      "cell_type": "code",
      "metadata": {
        "id": "AI4quioTzUgB",
        "outputId": "24076650-a783-4aeb-bae9-46d71d3a2b8f",
        "colab": {
          "base_uri": "https://localhost:8080/"
        }
      },
      "source": [
        "print(\"Numpy Array : \\n\")\n",
        "print(X1)"
      ],
      "execution_count": 17,
      "outputs": [
        {
          "output_type": "stream",
          "text": [
            "Numpy Array : \n",
            "\n",
            "[[ 1  5  9  6]\n",
            " [ 2  6  3  8]\n",
            " [ 4  8  7 12]]\n"
          ],
          "name": "stdout"
        }
      ]
    },
    {
      "cell_type": "code",
      "metadata": {
        "id": "DtW2uRN8pwVg",
        "outputId": "833fbe3e-cc8d-4f92-bd05-d2891e9b2dd4",
        "colab": {
          "base_uri": "https://localhost:8080/"
        }
      },
      "source": [
        "# Before Changing / Updating value :  \n",
        "# Value at row:2 and column:3\n",
        "print(\"Value before updation = \" , X1[1,2])"
      ],
      "execution_count": 18,
      "outputs": [
        {
          "output_type": "stream",
          "text": [
            "Value before updation =  3\n"
          ],
          "name": "stdout"
        }
      ]
    },
    {
      "cell_type": "code",
      "metadata": {
        "id": "nUhgzSBm3CWT",
        "outputId": "2aa95d30-a25e-4517-8504-f969a7ceda00",
        "colab": {
          "base_uri": "https://localhost:8080/"
        }
      },
      "source": [
        "# Changing the value at row:2 and column:3\n",
        "X1[1,2] = 100\n",
        "\n",
        "# After Changing / Updating value :  \n",
        "# Value at row:2 and column:3\n",
        "print(\"Value after updation = \" , X1[1,2])"
      ],
      "execution_count": 19,
      "outputs": [
        {
          "output_type": "stream",
          "text": [
            "Value after updation =  100\n"
          ],
          "name": "stdout"
        }
      ]
    },
    {
      "cell_type": "markdown",
      "metadata": {
        "id": "gtKS-ggr4cia"
      },
      "source": [
        "#### Copies of NumPy array :"
      ]
    },
    {
      "cell_type": "code",
      "metadata": {
        "id": "gK_j3VOi3Ehd",
        "outputId": "a7a31801-3f37-41c2-b8ab-2638d284b8c0",
        "colab": {
          "base_uri": "https://localhost:8080/"
        }
      },
      "source": [
        "# Consider\n",
        "copy_array = X1\n",
        "\n",
        "print(\"X1 : \")\n",
        "print(X1)\n",
        "print()\n",
        "print(\"copy_array : \")\n",
        "print(copy_array)"
      ],
      "execution_count": 20,
      "outputs": [
        {
          "output_type": "stream",
          "text": [
            "X1 : \n",
            "[[  1   5   9   6]\n",
            " [  2   6 100   8]\n",
            " [  4   8   7  12]]\n",
            "\n",
            "copy_array : \n",
            "[[  1   5   9   6]\n",
            " [  2   6 100   8]\n",
            " [  4   8   7  12]]\n"
          ],
          "name": "stdout"
        }
      ]
    },
    {
      "cell_type": "code",
      "metadata": {
        "id": "hBL4anEV3EfL"
      },
      "source": [
        "# Updating element at first row and first column in copy_array.\n",
        "copy_array[0,0] = -999"
      ],
      "execution_count": 21,
      "outputs": []
    },
    {
      "cell_type": "code",
      "metadata": {
        "id": "WS7OSH375Kcf",
        "outputId": "30b7b85d-dfa8-44b4-dfce-b74d3d5920ee",
        "colab": {
          "base_uri": "https://localhost:8080/"
        }
      },
      "source": [
        "# Printing both arrays after updating the value at [ 0, 0 ] :\n",
        "print(\"X1 : \")\n",
        "print(X1)\n",
        "print()\n",
        "print(\"copy_array : \")\n",
        "print(copy_array)"
      ],
      "execution_count": 22,
      "outputs": [
        {
          "output_type": "stream",
          "text": [
            "X1 : \n",
            "[[-999    5    9    6]\n",
            " [   2    6  100    8]\n",
            " [   4    8    7   12]]\n",
            "\n",
            "copy_array : \n",
            "[[-999    5    9    6]\n",
            " [   2    6  100    8]\n",
            " [   4    8    7   12]]\n"
          ],
          "name": "stdout"
        }
      ]
    },
    {
      "cell_type": "markdown",
      "metadata": {
        "id": "Bjoq_4Kx5ZLh"
      },
      "source": [
        "But we don't want this?\n",
        "\n"
      ]
    },
    {
      "cell_type": "code",
      "metadata": {
        "id": "V81fQPQM5QQz",
        "outputId": "5a03f3c3-bfa5-4e68-c527-7c57bb9e3156",
        "colab": {
          "base_uri": "https://localhost:8080/"
        }
      },
      "source": [
        "copy_array = X1.copy()\n",
        "\n",
        "print(\"X1 : \")\n",
        "print(X1)\n",
        "print()\n",
        "print(\"copy_array : \")\n",
        "print(copy_array)"
      ],
      "execution_count": 23,
      "outputs": [
        {
          "output_type": "stream",
          "text": [
            "X1 : \n",
            "[[-999    5    9    6]\n",
            " [   2    6  100    8]\n",
            " [   4    8    7   12]]\n",
            "\n",
            "copy_array : \n",
            "[[-999    5    9    6]\n",
            " [   2    6  100    8]\n",
            " [   4    8    7   12]]\n"
          ],
          "name": "stdout"
        }
      ]
    },
    {
      "cell_type": "code",
      "metadata": {
        "id": "V5glzvqJ5QOh"
      },
      "source": [
        "# Updating element at first row and first column in copy_array.\n",
        "copy_array[0,0] = 23"
      ],
      "execution_count": 24,
      "outputs": []
    },
    {
      "cell_type": "code",
      "metadata": {
        "id": "DR0teRGD5rhC",
        "outputId": "600fd806-e2d6-4f75-e38e-982b6b6c1ade",
        "colab": {
          "base_uri": "https://localhost:8080/"
        }
      },
      "source": [
        "# Printing both arrays after updating the value at [ 0, 0 ] :\n",
        "print(\"X1 : \")\n",
        "print(X1)\n",
        "print()\n",
        "print(\"copy_array : \")\n",
        "print(copy_array)"
      ],
      "execution_count": 25,
      "outputs": [
        {
          "output_type": "stream",
          "text": [
            "X1 : \n",
            "[[-999    5    9    6]\n",
            " [   2    6  100    8]\n",
            " [   4    8    7   12]]\n",
            "\n",
            "copy_array : \n",
            "[[ 23   5   9   6]\n",
            " [  2   6 100   8]\n",
            " [  4   8   7  12]]\n"
          ],
          "name": "stdout"
        }
      ]
    },
    {
      "cell_type": "markdown",
      "metadata": {
        "id": "chEpdBr06bbY"
      },
      "source": [
        "#### range() function for numpy arrays?\n",
        "\n",
        "arange function Returns an NumPy array with evenly spaced elements based on the given interval. \n",
        "\n",
        "In the below example : It Returns evenly spaced numbers between 0 to 10"
      ]
    },
    {
      "cell_type": "code",
      "metadata": {
        "id": "VRB-3asg6LMs",
        "outputId": "0d7304b7-3d99-4796-f5ac-ee7ec5b05693",
        "colab": {
          "base_uri": "https://localhost:8080/"
        }
      },
      "source": [
        "# Default interval starting = 0\n",
        "np.arange(10)"
      ],
      "execution_count": 26,
      "outputs": [
        {
          "output_type": "execute_result",
          "data": {
            "text/plain": [
              "array([0, 1, 2, 3, 4, 5, 6, 7, 8, 9])"
            ]
          },
          "metadata": {
            "tags": []
          },
          "execution_count": 26
        }
      ]
    },
    {
      "cell_type": "code",
      "metadata": {
        "id": "MGWfL8x66LKw",
        "outputId": "78b32301-c8f0-41b1-d9fc-b78ab01a8999",
        "colab": {
          "base_uri": "https://localhost:8080/"
        }
      },
      "source": [
        "# arange(start, stop, step_size)\n",
        "np.arange(0,10,2)"
      ],
      "execution_count": 27,
      "outputs": [
        {
          "output_type": "execute_result",
          "data": {
            "text/plain": [
              "array([0, 2, 4, 6, 8])"
            ]
          },
          "metadata": {
            "tags": []
          },
          "execution_count": 27
        }
      ]
    },
    {
      "cell_type": "markdown",
      "metadata": {
        "id": "gvSdBdQW7Tqp"
      },
      "source": [
        "#### How to change the shape of the numpy array ?"
      ]
    },
    {
      "cell_type": "code",
      "metadata": {
        "id": "W3MmQkZi6LH6",
        "outputId": "36d94417-f1aa-483b-ba1f-ba74be03d61c",
        "colab": {
          "base_uri": "https://localhost:8080/"
        }
      },
      "source": [
        "# Creating a NumPy array.\n",
        "np_array = np.arange(9)\n",
        "print(\"Numpy array : \",np_array)\n",
        "print()\n",
        "print(\"Shape of array : \", np_array.shape )"
      ],
      "execution_count": 28,
      "outputs": [
        {
          "output_type": "stream",
          "text": [
            "Numpy array :  [0 1 2 3 4 5 6 7 8]\n",
            "\n",
            "Shape of array :  (9,)\n"
          ],
          "name": "stdout"
        }
      ]
    },
    {
      "cell_type": "markdown",
      "metadata": {
        "id": "Q8ZrxXxe3Yq3"
      },
      "source": [
        "Reshaping this array to a (3,3) shape."
      ]
    },
    {
      "cell_type": "code",
      "metadata": {
        "id": "Geuy4AXv78ml",
        "outputId": "2a6323f3-784f-44b3-9ab6-218330f6654e",
        "colab": {
          "base_uri": "https://localhost:8080/"
        }
      },
      "source": [
        "# Reshaping the array to a (3,3) shape\n",
        "np_array_reshaped = np_array.reshape((3,3))\n",
        "print(\"Reshaped Numpy array : \")\n",
        "print(np_array_reshaped)\n",
        "print()\n",
        "print(\"Shape of array : \", np_array_reshaped.shape )"
      ],
      "execution_count": 29,
      "outputs": [
        {
          "output_type": "stream",
          "text": [
            "Reshaped Numpy array : \n",
            "[[0 1 2]\n",
            " [3 4 5]\n",
            " [6 7 8]]\n",
            "\n",
            "Shape of array :  (3, 3)\n"
          ],
          "name": "stdout"
        }
      ]
    },
    {
      "cell_type": "markdown",
      "metadata": {
        "id": "tE3h1KBB9H0R"
      },
      "source": [
        "Another example :\n",
        "\n",
        "Changing the shape of numpy array to (9,1) dimensional array."
      ]
    },
    {
      "cell_type": "code",
      "metadata": {
        "id": "xddCtKMF78kC",
        "outputId": "6fc53f94-48af-44d2-bf71-fe15f2d0eda0",
        "colab": {
          "base_uri": "https://localhost:8080/"
        }
      },
      "source": [
        "# Printing the original array \n",
        "print(\"Original Numpy array : \",np_array)\n",
        "print()\n",
        "# Reshaping the array to a (3,3) shape\n",
        "np_array_reshaped = np_array.reshape((9,1))\n",
        "print(\"Reshaped Numpy array : \")\n",
        "print(np_array_reshaped)\n",
        "print()\n",
        "print(\"Shape of array : \", np_array_reshaped.shape )"
      ],
      "execution_count": 30,
      "outputs": [
        {
          "output_type": "stream",
          "text": [
            "Original Numpy array :  [0 1 2 3 4 5 6 7 8]\n",
            "\n",
            "Reshaped Numpy array : \n",
            "[[0]\n",
            " [1]\n",
            " [2]\n",
            " [3]\n",
            " [4]\n",
            " [5]\n",
            " [6]\n",
            " [7]\n",
            " [8]]\n",
            "\n",
            "Shape of array :  (9, 1)\n"
          ],
          "name": "stdout"
        }
      ]
    },
    {
      "cell_type": "markdown",
      "metadata": {
        "id": "uYX-YIbq9pvG"
      },
      "source": [
        "#### Concatenation of arrays :\n",
        "In order to join a sequence of arrays along an existing axis is concatenation of arrays. \n",
        "\n",
        "Consider the following two arrays :"
      ]
    },
    {
      "cell_type": "code",
      "metadata": {
        "id": "pS_8cvWJ-WVN",
        "outputId": "e1848f0a-a061-4adc-ffd3-576a7ff5b1db",
        "colab": {
          "base_uri": "https://localhost:8080/"
        }
      },
      "source": [
        "# Creating array 1 \n",
        "array1 = np.arange(1,5)\n",
        "# Creating array 2\n",
        "array2 = np.arange(5,10)\n",
        "print(\"array1 : \",array1)\n",
        "print(\"array2 : \",array2)"
      ],
      "execution_count": 31,
      "outputs": [
        {
          "output_type": "stream",
          "text": [
            "array1 :  [1 2 3 4]\n",
            "array2 :  [5 6 7 8 9]\n"
          ],
          "name": "stdout"
        }
      ]
    },
    {
      "cell_type": "markdown",
      "metadata": {
        "id": "IwAIvSyP39SH"
      },
      "source": [
        "Concatenating the above two arrays."
      ]
    },
    {
      "cell_type": "code",
      "metadata": {
        "id": "sX2_i8sY9oSS",
        "outputId": "6aa07f6a-e39b-451a-9c93-189467de1205",
        "colab": {
          "base_uri": "https://localhost:8080/"
        }
      },
      "source": [
        "# Concatenating the above two arays\n",
        "concat = np.concatenate([array1, array2])\n",
        "print()\n",
        "print(\"Concatenated array : \",concat)"
      ],
      "execution_count": 32,
      "outputs": [
        {
          "output_type": "stream",
          "text": [
            "\n",
            "Concatenated array :  [1 2 3 4 5 6 7 8 9]\n"
          ],
          "name": "stdout"
        }
      ]
    },
    {
      "cell_type": "markdown",
      "metadata": {
        "id": "qJbPWklk-txh"
      },
      "source": [
        "Concatenation for multi-dimensional arrays :"
      ]
    },
    {
      "cell_type": "code",
      "metadata": {
        "id": "hfQ9N7Ia9oP1",
        "outputId": "9771fd59-d03f-4cda-f82c-9024076a43ff",
        "colab": {
          "base_uri": "https://localhost:8080/"
        }
      },
      "source": [
        "# Creating the np array\n",
        "multi_array = np.array([\n",
        "                        [1, 2, 3],\n",
        "                        [4, 5, 6]\n",
        "                        ])\n",
        "\n",
        "print(\"Array : \")\n",
        "print(multi_array)\n",
        "print(\"\\nShape array : \", multi_array.shape)"
      ],
      "execution_count": 33,
      "outputs": [
        {
          "output_type": "stream",
          "text": [
            "Array : \n",
            "[[1 2 3]\n",
            " [4 5 6]]\n",
            "\n",
            "Shape array :  (2, 3)\n"
          ],
          "name": "stdout"
        }
      ]
    },
    {
      "cell_type": "markdown",
      "metadata": {
        "id": "9m5wKe104Ev_"
      },
      "source": [
        "Concatenating the above array."
      ]
    },
    {
      "cell_type": "code",
      "metadata": {
        "id": "ScJ_fREc_V-B",
        "outputId": "7ea7d852-6c38-4118-c392-7c4995e3f352",
        "colab": {
          "base_uri": "https://localhost:8080/"
        }
      },
      "source": [
        "concat = np.concatenate( [ multi_array, multi_array ] )\n",
        "print(\"Concatenated array : \")\n",
        "print(concat)\n",
        "print(\"nShape array : \", concat.shape)"
      ],
      "execution_count": 34,
      "outputs": [
        {
          "output_type": "stream",
          "text": [
            "Concatenated array : \n",
            "[[1 2 3]\n",
            " [4 5 6]\n",
            " [1 2 3]\n",
            " [4 5 6]]\n",
            "nShape array :  (4, 3)\n"
          ],
          "name": "stdout"
        }
      ]
    },
    {
      "cell_type": "markdown",
      "metadata": {
        "id": "fo1-0Uma4PxP"
      },
      "source": [
        "**Concatenation along row :**"
      ]
    },
    {
      "cell_type": "code",
      "metadata": {
        "id": "LdEQRJWK_meJ",
        "outputId": "c8aaf192-2ed0-43a8-a940-1231962bd69a",
        "colab": {
          "base_uri": "https://localhost:8080/"
        }
      },
      "source": [
        "concat = np.concatenate( [ multi_array, multi_array ], axis=1 )\n",
        "print(\"Concatenated array : \")\n",
        "print(concat)\n",
        "print(\"Shape array : \", concat.shape)"
      ],
      "execution_count": 35,
      "outputs": [
        {
          "output_type": "stream",
          "text": [
            "Concatenated array : \n",
            "[[1 2 3 1 2 3]\n",
            " [4 5 6 4 5 6]]\n",
            "Shape array :  (2, 6)\n"
          ],
          "name": "stdout"
        }
      ]
    },
    {
      "cell_type": "markdown",
      "metadata": {
        "id": "s4OlChcskY32"
      },
      "source": [
        "#### More numpy arrays ?\n",
        "\n",
        "1. Ones :\n",
        "\n",
        "    Returns a new array with ones of shape specified and type."
      ]
    },
    {
      "cell_type": "code",
      "metadata": {
        "id": "lWG6xUO-c7p-",
        "outputId": "cad9ad8d-72e7-4b95-b496-27046e82148c",
        "colab": {
          "base_uri": "https://localhost:8080/"
        }
      },
      "source": [
        "# Creating a ones array with 6 elements.\n",
        "ones = np.ones(6,dtype = int)\n",
        "ones"
      ],
      "execution_count": 36,
      "outputs": [
        {
          "output_type": "execute_result",
          "data": {
            "text/plain": [
              "array([1, 1, 1, 1, 1, 1])"
            ]
          },
          "metadata": {
            "tags": []
          },
          "execution_count": 36
        }
      ]
    },
    {
      "cell_type": "code",
      "metadata": {
        "id": "4z-oonmjmzB0",
        "outputId": "56f0d50f-3e60-47c7-c380-ab29f00ef3db",
        "colab": {
          "base_uri": "https://localhost:8080/"
        }
      },
      "source": [
        "# Checking dimension of ones array:\n",
        "ones.shape"
      ],
      "execution_count": 37,
      "outputs": [
        {
          "output_type": "execute_result",
          "data": {
            "text/plain": [
              "(6,)"
            ]
          },
          "metadata": {
            "tags": []
          },
          "execution_count": 37
        }
      ]
    },
    {
      "cell_type": "markdown",
      "metadata": {
        "id": "PULY27MHmkef"
      },
      "source": [
        "2. Zeroes :\n",
        "    \n",
        "    Returns a new array with zeros of shape specified and type."
      ]
    },
    {
      "cell_type": "code",
      "metadata": {
        "id": "PiC6bN3fmpEg",
        "outputId": "2b01efc5-d054-423f-aae8-c4f012d36db3",
        "colab": {
          "base_uri": "https://localhost:8080/"
        }
      },
      "source": [
        "zeros = np.zeros(10, dtype = np.float64)\n",
        "print(zeros)"
      ],
      "execution_count": 38,
      "outputs": [
        {
          "output_type": "stream",
          "text": [
            "[0. 0. 0. 0. 0. 0. 0. 0. 0. 0.]\n"
          ],
          "name": "stdout"
        }
      ]
    },
    {
      "cell_type": "code",
      "metadata": {
        "id": "ZF7-bpwMm5_W",
        "outputId": "f343f3e6-5d8a-4c84-a77f-959c4d159d9c",
        "colab": {
          "base_uri": "https://localhost:8080/"
        }
      },
      "source": [
        "# Checking dimension of ones array:\n",
        "zeros.shape"
      ],
      "execution_count": 39,
      "outputs": [
        {
          "output_type": "execute_result",
          "data": {
            "text/plain": [
              "(10,)"
            ]
          },
          "metadata": {
            "tags": []
          },
          "execution_count": 39
        }
      ]
    },
    {
      "cell_type": "markdown",
      "metadata": {
        "id": "km9swB2LNMF6"
      },
      "source": [
        "3. [Identity :](https://numpy.org/doc/stable/reference/generated/numpy.identity.html)\n",
        "\n",
        "    The identity array is a square array with ones on the main diagonal."
      ]
    },
    {
      "cell_type": "code",
      "metadata": {
        "id": "aaa4ggYCNO-A",
        "outputId": "487a9807-80b1-42ee-c2c8-f4fa8304c40e",
        "colab": {
          "base_uri": "https://localhost:8080/"
        }
      },
      "source": [
        "identity = np.identity(3)\n",
        "print(identity)\n",
        "print()\n",
        "print(\"Shape of Identity matrix = \", identity.shape)"
      ],
      "execution_count": 40,
      "outputs": [
        {
          "output_type": "stream",
          "text": [
            "[[1. 0. 0.]\n",
            " [0. 1. 0.]\n",
            " [0. 0. 1.]]\n",
            "\n",
            "Shape of Identity matrix =  (3, 3)\n"
          ],
          "name": "stdout"
        }
      ]
    },
    {
      "cell_type": "markdown",
      "metadata": {
        "id": "g0UzY0pokT_8"
      },
      "source": [
        "### Array Arithmetics :\n",
        "\n",
        "1. Addition : \n"
      ]
    },
    {
      "cell_type": "code",
      "metadata": {
        "id": "JYE2H21cc7nn",
        "outputId": "f3f22e31-db4d-4748-ddff-f7e5a188c3e5",
        "colab": {
          "base_uri": "https://localhost:8080/"
        }
      },
      "source": [
        "# Creating array 1 \n",
        "array1 = np.arange(1,10).reshape((3,3))\n",
        "# Creating array 2\n",
        "array2 = np.arange(10,19).reshape((3,3))\n",
        "print(\"array1 : \\n\",array1)\n",
        "print()\n",
        "print(\"array2 : \\n\",array2)\n",
        "\n",
        "print()\n",
        "print(\"Shape array1 : \", array1.shape)\n",
        "print(\"Shape array2 : \", array2.shape)"
      ],
      "execution_count": 41,
      "outputs": [
        {
          "output_type": "stream",
          "text": [
            "array1 : \n",
            " [[1 2 3]\n",
            " [4 5 6]\n",
            " [7 8 9]]\n",
            "\n",
            "array2 : \n",
            " [[10 11 12]\n",
            " [13 14 15]\n",
            " [16 17 18]]\n",
            "\n",
            "Shape array1 :  (3, 3)\n",
            "Shape array2 :  (3, 3)\n"
          ],
          "name": "stdout"
        }
      ]
    },
    {
      "cell_type": "code",
      "metadata": {
        "id": "dS9Vv0Apc7lV",
        "outputId": "adcabd1f-89c6-484a-e595-92afd5b9a5a3",
        "colab": {
          "base_uri": "https://localhost:8080/"
        }
      },
      "source": [
        "# Addition Result\n",
        "array1 + array2"
      ],
      "execution_count": 42,
      "outputs": [
        {
          "output_type": "execute_result",
          "data": {
            "text/plain": [
              "array([[11, 13, 15],\n",
              "       [17, 19, 21],\n",
              "       [23, 25, 27]])"
            ]
          },
          "metadata": {
            "tags": []
          },
          "execution_count": 42
        }
      ]
    },
    {
      "cell_type": "code",
      "metadata": {
        "id": "MwGIRGHtc7i9",
        "outputId": "d28707a3-102c-4b07-9c59-5a33414356f1",
        "colab": {
          "base_uri": "https://localhost:8080/"
        }
      },
      "source": [
        "# Addition Result\n",
        "np.add(array1,array2)"
      ],
      "execution_count": 43,
      "outputs": [
        {
          "output_type": "execute_result",
          "data": {
            "text/plain": [
              "array([[11, 13, 15],\n",
              "       [17, 19, 21],\n",
              "       [23, 25, 27]])"
            ]
          },
          "metadata": {
            "tags": []
          },
          "execution_count": 43
        }
      ]
    },
    {
      "cell_type": "markdown",
      "metadata": {
        "id": "PgykQTcqOlZZ"
      },
      "source": [
        "2. Subtraction :"
      ]
    },
    {
      "cell_type": "code",
      "metadata": {
        "id": "yp3Fq18mOxOY",
        "outputId": "80c515a7-d8ad-4fc4-8ff9-b92a0ed9175a",
        "colab": {
          "base_uri": "https://localhost:8080/"
        }
      },
      "source": [
        "# Creating array 1 \n",
        "array1 = np.arange(1,10).reshape((3,3))\n",
        "# Creating array 2\n",
        "array2 = np.arange(10,19).reshape((3,3))\n",
        "print(\"array1 : \\n\",array1)\n",
        "print()\n",
        "print(\"array2 : \\n\",array2)\n",
        "\n",
        "print()\n",
        "print(\"Shape array1 : \", array1.shape)\n",
        "print(\"Shape array2 : \", array2.shape)"
      ],
      "execution_count": 44,
      "outputs": [
        {
          "output_type": "stream",
          "text": [
            "array1 : \n",
            " [[1 2 3]\n",
            " [4 5 6]\n",
            " [7 8 9]]\n",
            "\n",
            "array2 : \n",
            " [[10 11 12]\n",
            " [13 14 15]\n",
            " [16 17 18]]\n",
            "\n",
            "Shape array1 :  (3, 3)\n",
            "Shape array2 :  (3, 3)\n"
          ],
          "name": "stdout"
        }
      ]
    },
    {
      "cell_type": "code",
      "metadata": {
        "id": "EvvRlU6bc7gm",
        "outputId": "f5f6dae2-81c9-4c75-83b7-94ad55b612ca",
        "colab": {
          "base_uri": "https://localhost:8080/"
        }
      },
      "source": [
        "# Subtraction Result\n",
        "array2-array1"
      ],
      "execution_count": 45,
      "outputs": [
        {
          "output_type": "execute_result",
          "data": {
            "text/plain": [
              "array([[9, 9, 9],\n",
              "       [9, 9, 9],\n",
              "       [9, 9, 9]])"
            ]
          },
          "metadata": {
            "tags": []
          },
          "execution_count": 45
        }
      ]
    },
    {
      "cell_type": "code",
      "metadata": {
        "id": "wqxQe1e5c7eN",
        "outputId": "0d2006fc-83f7-46c0-e74b-cc49d8bc3268",
        "colab": {
          "base_uri": "https://localhost:8080/"
        }
      },
      "source": [
        "# Subtraction Result\n",
        "np.subtract(array2,array1)"
      ],
      "execution_count": 46,
      "outputs": [
        {
          "output_type": "execute_result",
          "data": {
            "text/plain": [
              "array([[9, 9, 9],\n",
              "       [9, 9, 9],\n",
              "       [9, 9, 9]])"
            ]
          },
          "metadata": {
            "tags": []
          },
          "execution_count": 46
        }
      ]
    },
    {
      "cell_type": "markdown",
      "metadata": {
        "id": "R-am0_lhO74Y"
      },
      "source": [
        "3. Multiplication :\n"
      ]
    },
    {
      "cell_type": "code",
      "metadata": {
        "id": "vLFRRx8_PBN6",
        "outputId": "fe4ee53c-d9be-4ba7-ab2d-cb07a8316965",
        "colab": {
          "base_uri": "https://localhost:8080/"
        }
      },
      "source": [
        "# Creating array 1 \n",
        "array1 = np.arange(1,5).reshape((2,2))\n",
        "# Creating array 2\n",
        "array2 = np.arange(5,9).reshape((2,2))\n",
        "print(\"array1 : \\n\",array1)\n",
        "print()\n",
        "print(\"array2 : \\n\",array2)\n",
        "\n",
        "print()\n",
        "print(\"Shape array1 : \", array1.shape)\n",
        "print(\"Shape array2 : \", array2.shape)"
      ],
      "execution_count": 47,
      "outputs": [
        {
          "output_type": "stream",
          "text": [
            "array1 : \n",
            " [[1 2]\n",
            " [3 4]]\n",
            "\n",
            "array2 : \n",
            " [[5 6]\n",
            " [7 8]]\n",
            "\n",
            "Shape array1 :  (2, 2)\n",
            "Shape array2 :  (2, 2)\n"
          ],
          "name": "stdout"
        }
      ]
    },
    {
      "cell_type": "code",
      "metadata": {
        "id": "a1mFj8RtPBOr",
        "outputId": "741e9386-314a-40c3-d1e4-1c385f3f00b9",
        "colab": {
          "base_uri": "https://localhost:8080/"
        }
      },
      "source": [
        "# Multiplication Result\n",
        "array2*array1"
      ],
      "execution_count": 48,
      "outputs": [
        {
          "output_type": "execute_result",
          "data": {
            "text/plain": [
              "array([[ 5, 12],\n",
              "       [21, 32]])"
            ]
          },
          "metadata": {
            "tags": []
          },
          "execution_count": 48
        }
      ]
    },
    {
      "cell_type": "code",
      "metadata": {
        "id": "88chMGezPBPT",
        "outputId": "beea2fd2-7223-48f2-9ac4-8e963d4a0952",
        "colab": {
          "base_uri": "https://localhost:8080/"
        }
      },
      "source": [
        "# Multiplication Result\n",
        "np.multiply(array2,array1)"
      ],
      "execution_count": 49,
      "outputs": [
        {
          "output_type": "execute_result",
          "data": {
            "text/plain": [
              "array([[ 5, 12],\n",
              "       [21, 32]])"
            ]
          },
          "metadata": {
            "tags": []
          },
          "execution_count": 49
        }
      ]
    },
    {
      "cell_type": "markdown",
      "metadata": {
        "id": "ZpppblZsPcsV"
      },
      "source": [
        "4. Division :"
      ]
    },
    {
      "cell_type": "code",
      "metadata": {
        "id": "QY6o6uPGPfq6",
        "outputId": "b5583262-16c8-4dc6-cf57-b07504c4391d",
        "colab": {
          "base_uri": "https://localhost:8080/"
        }
      },
      "source": [
        "# Creating array 1 \n",
        "array1 = np.arange(1,5).reshape((2,2))\n",
        "# Creating array 2\n",
        "array2 = 10*np.ones(4).reshape((2,2))\n",
        "print(\"array1 : \\n\",array1)\n",
        "print()\n",
        "print(\"array2 : \\n\",array2)\n",
        "\n",
        "print()\n",
        "print(\"Shape array1 : \", array1.shape)\n",
        "print(\"Shape array2 : \", array2.shape)"
      ],
      "execution_count": 50,
      "outputs": [
        {
          "output_type": "stream",
          "text": [
            "array1 : \n",
            " [[1 2]\n",
            " [3 4]]\n",
            "\n",
            "array2 : \n",
            " [[10. 10.]\n",
            " [10. 10.]]\n",
            "\n",
            "Shape array1 :  (2, 2)\n",
            "Shape array2 :  (2, 2)\n"
          ],
          "name": "stdout"
        }
      ]
    },
    {
      "cell_type": "code",
      "metadata": {
        "id": "ZTDGxViqPfrq",
        "outputId": "36780b9d-646f-42e6-ebc4-4209ca899630",
        "colab": {
          "base_uri": "https://localhost:8080/"
        }
      },
      "source": [
        "# Multiplication Result\n",
        "array1 / array2"
      ],
      "execution_count": 51,
      "outputs": [
        {
          "output_type": "execute_result",
          "data": {
            "text/plain": [
              "array([[0.1, 0.2],\n",
              "       [0.3, 0.4]])"
            ]
          },
          "metadata": {
            "tags": []
          },
          "execution_count": 51
        }
      ]
    },
    {
      "cell_type": "code",
      "metadata": {
        "id": "fLTF3kZcPfsN",
        "outputId": "cd1c27d7-cebd-44ce-e7c0-1dd51efc2942",
        "colab": {
          "base_uri": "https://localhost:8080/"
        }
      },
      "source": [
        "# Multiplication Result\n",
        "np.divide(array1,array2)"
      ],
      "execution_count": 52,
      "outputs": [
        {
          "output_type": "execute_result",
          "data": {
            "text/plain": [
              "array([[0.1, 0.2],\n",
              "       [0.3, 0.4]])"
            ]
          },
          "metadata": {
            "tags": []
          },
          "execution_count": 52
        }
      ]
    },
    {
      "cell_type": "markdown",
      "metadata": {
        "id": "JuY6iLUPSPBJ"
      },
      "source": [
        "5. Power :"
      ]
    },
    {
      "cell_type": "code",
      "metadata": {
        "id": "PPvsAOt4QjqM",
        "outputId": "8fb506af-0ab2-453e-84c0-926342498e63",
        "colab": {
          "base_uri": "https://localhost:8080/"
        }
      },
      "source": [
        "# Creating array 1 \n",
        "array1 = np.arange(1,5)\n",
        "\n",
        "print(\"array1 : \\n\",array1)\n",
        "print()\n",
        "print(\"Shape array1 : \", array1.shape)"
      ],
      "execution_count": 53,
      "outputs": [
        {
          "output_type": "stream",
          "text": [
            "array1 : \n",
            " [1 2 3 4]\n",
            "\n",
            "Shape array1 :  (4,)\n"
          ],
          "name": "stdout"
        }
      ]
    },
    {
      "cell_type": "code",
      "metadata": {
        "id": "VD25J7asSjp5",
        "outputId": "3d02d6d3-324d-4b92-8ff3-974c142e889e",
        "colab": {
          "base_uri": "https://localhost:8080/"
        }
      },
      "source": [
        "# Squaring each element in array\n",
        "np.power(array1,2)"
      ],
      "execution_count": 54,
      "outputs": [
        {
          "output_type": "execute_result",
          "data": {
            "text/plain": [
              "array([ 1,  4,  9, 16])"
            ]
          },
          "metadata": {
            "tags": []
          },
          "execution_count": 54
        }
      ]
    },
    {
      "cell_type": "markdown",
      "metadata": {
        "id": "DS9Pno2X5r3P"
      },
      "source": [
        "#### NumPy Functions :"
      ]
    },
    {
      "cell_type": "markdown",
      "metadata": {
        "id": "ixsK84WNgA2K"
      },
      "source": [
        "#### Absolute value :"
      ]
    },
    {
      "cell_type": "code",
      "metadata": {
        "id": "mXjA3yAdSlww",
        "outputId": "e47d5078-15e3-4c2c-82e6-c046be460114",
        "colab": {
          "base_uri": "https://localhost:8080/"
        }
      },
      "source": [
        "# Creating array 1 \n",
        "array1 = np.arange(5,-5,-1)\n",
        "\n",
        "print(\"array1 : \\n\",array1)\n",
        "print()\n",
        "print(\"Shape array1 : \", array1.shape)"
      ],
      "execution_count": 55,
      "outputs": [
        {
          "output_type": "stream",
          "text": [
            "array1 : \n",
            " [ 5  4  3  2  1  0 -1 -2 -3 -4]\n",
            "\n",
            "Shape array1 :  (10,)\n"
          ],
          "name": "stdout"
        }
      ]
    },
    {
      "cell_type": "code",
      "metadata": {
        "id": "RUn4nm1ygNtw",
        "outputId": "11308679-3a34-4f67-b16b-4d5da8d1b46d",
        "colab": {
          "base_uri": "https://localhost:8080/"
        }
      },
      "source": [
        "# Taking absolute value of array\n",
        "np.absolute(array1)"
      ],
      "execution_count": 56,
      "outputs": [
        {
          "output_type": "execute_result",
          "data": {
            "text/plain": [
              "array([5, 4, 3, 2, 1, 0, 1, 2, 3, 4])"
            ]
          },
          "metadata": {
            "tags": []
          },
          "execution_count": 56
        }
      ]
    },
    {
      "cell_type": "code",
      "metadata": {
        "id": "ESmju_Oagxbw",
        "outputId": "fb29552c-d801-455b-d39a-e1b097a58e8b",
        "colab": {
          "base_uri": "https://localhost:8080/"
        }
      },
      "source": [
        "np.abs(array1)"
      ],
      "execution_count": 57,
      "outputs": [
        {
          "output_type": "execute_result",
          "data": {
            "text/plain": [
              "array([5, 4, 3, 2, 1, 0, 1, 2, 3, 4])"
            ]
          },
          "metadata": {
            "tags": []
          },
          "execution_count": 57
        }
      ]
    },
    {
      "cell_type": "markdown",
      "metadata": {
        "id": "ZZO8aRkqhNcy"
      },
      "source": [
        "#### linspace function :\n",
        "This is a function which returns number spaced evenly with given specified interval. \n",
        "\n",
        "For example : \n",
        "In order to get ten numbers between 1 and 10."
      ]
    },
    {
      "cell_type": "code",
      "metadata": {
        "id": "1QAowK9bg89o",
        "outputId": "320473c4-9ad3-437e-cb6f-c8361b801031",
        "colab": {
          "base_uri": "https://localhost:8080/"
        }
      },
      "source": [
        "np.linspace(1,10,10)"
      ],
      "execution_count": 58,
      "outputs": [
        {
          "output_type": "execute_result",
          "data": {
            "text/plain": [
              "array([ 1.,  2.,  3.,  4.,  5.,  6.,  7.,  8.,  9., 10.])"
            ]
          },
          "metadata": {
            "tags": []
          },
          "execution_count": 58
        }
      ]
    },
    {
      "cell_type": "markdown",
      "metadata": {
        "id": "jNKXXJMfjaNL"
      },
      "source": [
        "Consider another example where we want a total of four numebers in between 1 and 10.  "
      ]
    },
    {
      "cell_type": "code",
      "metadata": {
        "id": "bDoksV0AhTiq",
        "outputId": "7c55c53f-21c8-42d7-b078-4a1e31a8d3a1",
        "colab": {
          "base_uri": "https://localhost:8080/"
        }
      },
      "source": [
        "# linspace(start,end,num)\n",
        "np.linspace(1,10,4)"
      ],
      "execution_count": 59,
      "outputs": [
        {
          "output_type": "execute_result",
          "data": {
            "text/plain": [
              "array([ 1.,  4.,  7., 10.])"
            ]
          },
          "metadata": {
            "tags": []
          },
          "execution_count": 59
        }
      ]
    },
    {
      "cell_type": "markdown",
      "metadata": {
        "id": "WdZNpqOWkpK8"
      },
      "source": [
        "#### dot function :\n",
        "This function returns the dot product of two numpy arrays."
      ]
    },
    {
      "cell_type": "code",
      "metadata": {
        "id": "cBeEioUkhTbD",
        "outputId": "ee6f1bab-fc34-40eb-f56f-8fb41b7af150",
        "colab": {
          "base_uri": "https://localhost:8080/"
        }
      },
      "source": [
        "# Creating array 1 \n",
        "array1 = np.arange(4).reshape((2,2))\n",
        "# Creating array 2\n",
        "array2 = 2*np.ones(4).reshape((2,2))\n",
        "print(\"array1 : \\n\",array1)\n",
        "print()\n",
        "print(\"array2 : \\n\",array2)\n",
        "\n",
        "print()\n",
        "print(\"Shape array1 : \", array1.shape)\n",
        "print(\"Shape array2 : \", array2.shape)"
      ],
      "execution_count": 60,
      "outputs": [
        {
          "output_type": "stream",
          "text": [
            "array1 : \n",
            " [[0 1]\n",
            " [2 3]]\n",
            "\n",
            "array2 : \n",
            " [[2. 2.]\n",
            " [2. 2.]]\n",
            "\n",
            "Shape array1 :  (2, 2)\n",
            "Shape array2 :  (2, 2)\n"
          ],
          "name": "stdout"
        }
      ]
    },
    {
      "cell_type": "markdown",
      "metadata": {
        "id": "muXDhAsqlh0x"
      },
      "source": [
        "The dot product for the above arrays are calculated as follows : \n",
        "\n",
        "\n",
        "[  [ 0\\*2 + 1\\*2 , 0\\*2 + 1\\*2  ]   ,\n",
        " \n",
        " [ 2\\*2 + 3\\*2 ,  2\\*2 + 3\\*2 ]   ]\n"
      ]
    },
    {
      "cell_type": "code",
      "metadata": {
        "id": "Iq3ARTjTk97m",
        "outputId": "418f61a4-5bf3-499e-b9c5-a98785bebc97",
        "colab": {
          "base_uri": "https://localhost:8080/"
        }
      },
      "source": [
        "np.dot(array1,array2)"
      ],
      "execution_count": 61,
      "outputs": [
        {
          "output_type": "execute_result",
          "data": {
            "text/plain": [
              "array([[ 2.,  2.],\n",
              "       [10., 10.]])"
            ]
          },
          "metadata": {
            "tags": []
          },
          "execution_count": 61
        }
      ]
    },
    {
      "cell_type": "code",
      "metadata": {
        "id": "iCgtGGGIlF1F",
        "outputId": "1dc255a4-0388-418f-dd4b-473c19868f28",
        "colab": {
          "base_uri": "https://localhost:8080/"
        }
      },
      "source": [
        "array1.dot(array2)"
      ],
      "execution_count": 62,
      "outputs": [
        {
          "output_type": "execute_result",
          "data": {
            "text/plain": [
              "array([[ 2.,  2.],\n",
              "       [10., 10.]])"
            ]
          },
          "metadata": {
            "tags": []
          },
          "execution_count": 62
        }
      ]
    },
    {
      "cell_type": "markdown",
      "metadata": {
        "id": "wHiHL0MuvWfd"
      },
      "source": [
        "#### Transpose :\n",
        "Transpose is obtained by interchanging the rows to columns and vice versa. \n",
        "\n",
        "As it can be seen in the following example :"
      ]
    },
    {
      "cell_type": "code",
      "metadata": {
        "id": "HRq2etdHvaPI",
        "outputId": "14101329-d8b8-4751-d06d-c48857f52633",
        "colab": {
          "base_uri": "https://localhost:8080/"
        }
      },
      "source": [
        "array1 = np.arange(9).reshape((3,3))   \n",
        "print(\"Numpy array : \\n\",array1)\n",
        "\n",
        "print()\n",
        "print(\"Transpose : \\n\",array1.T)"
      ],
      "execution_count": 63,
      "outputs": [
        {
          "output_type": "stream",
          "text": [
            "Numpy array : \n",
            " [[0 1 2]\n",
            " [3 4 5]\n",
            " [6 7 8]]\n",
            "\n",
            "Transpose : \n",
            " [[0 3 6]\n",
            " [1 4 7]\n",
            " [2 5 8]]\n"
          ],
          "name": "stdout"
        }
      ]
    },
    {
      "cell_type": "markdown",
      "metadata": {
        "id": "6TpAtyfgoC6J"
      },
      "source": [
        "#### Sum Function :\n",
        "This function sums up the number based on the axis specified, which can be wither row or column.\n",
        "\n",
        "Now, for example : Sum of first 5 natural numbers."
      ]
    },
    {
      "cell_type": "code",
      "metadata": {
        "id": "4VqyN5V-ngZy",
        "outputId": "4646bcd8-f261-43b3-f994-3f23e7799be5",
        "colab": {
          "base_uri": "https://localhost:8080/"
        }
      },
      "source": [
        "natural_nums = np.arange(1,6)    \n",
        "print(\"First 5 Natural Numbers : \",natural_nums)\n",
        "print(\"Shape : \",natural_nums.shape)\n",
        "\n",
        "print()\n",
        "answer = np.sum(natural_nums)\n",
        "print(\"Sum of first 5 Natural numbers : \",answer)"
      ],
      "execution_count": 64,
      "outputs": [
        {
          "output_type": "stream",
          "text": [
            "First 5 Natural Numbers :  [1 2 3 4 5]\n",
            "Shape :  (5,)\n",
            "\n",
            "Sum of first 5 Natural numbers :  15\n"
          ],
          "name": "stdout"
        }
      ]
    },
    {
      "cell_type": "markdown",
      "metadata": {
        "id": "M6Ymr2Mop01i"
      },
      "source": [
        "Now, if we want to take sum of each column : "
      ]
    },
    {
      "cell_type": "code",
      "metadata": {
        "id": "_cohDY-mpdv5",
        "outputId": "2ec4cb86-bad0-4b63-9b16-01c4a1d5cfb1",
        "colab": {
          "base_uri": "https://localhost:8080/"
        }
      },
      "source": [
        "natural_nums = np.arange(9).reshape((3,3))   \n",
        "print(\"Numpy array : \\n\",natural_nums)\n",
        "print(\"Shape : \",natural_nums.shape)\n",
        "\n",
        "print()\n",
        "answer = np.sum(natural_nums,axis=0)\n",
        "print(\"Column wise Sum : \",answer)\n",
        "\n",
        "answer = np.sum(natural_nums,axis=1)\n",
        "print(\"Row    wise Sum : \",answer)"
      ],
      "execution_count": 65,
      "outputs": [
        {
          "output_type": "stream",
          "text": [
            "Numpy array : \n",
            " [[0 1 2]\n",
            " [3 4 5]\n",
            " [6 7 8]]\n",
            "Shape :  (3, 3)\n",
            "\n",
            "Column wise Sum :  [ 9 12 15]\n",
            "Row    wise Sum :  [ 3 12 21]\n"
          ],
          "name": "stdout"
        }
      ]
    },
    {
      "cell_type": "markdown",
      "metadata": {
        "id": "ru7m-IsTpTaT"
      },
      "source": [
        "####Max Function :\n",
        "This function return the maximum element(s) based on the axis specified, which can be wither row or column."
      ]
    },
    {
      "cell_type": "code",
      "metadata": {
        "id": "PmmvLhDIoyWy",
        "outputId": "4f730699-3e7b-4843-a010-e799bb17f456",
        "colab": {
          "base_uri": "https://localhost:8080/"
        }
      },
      "source": [
        "natural_nums = np.arange(9).reshape((3,3))    \n",
        "print(\"Numpy array : \\n\",natural_nums)\n",
        "print(\"Shape : \",natural_nums.shape)\n",
        "\n",
        "print()\n",
        "answer = np.max(natural_nums,axis=0)\n",
        "print(\"Column wise Max : \",answer)\n",
        "\n",
        "answer = np.max(natural_nums,axis=1)\n",
        "print(\"Row    wise Max : \",answer)"
      ],
      "execution_count": 66,
      "outputs": [
        {
          "output_type": "stream",
          "text": [
            "Numpy array : \n",
            " [[0 1 2]\n",
            " [3 4 5]\n",
            " [6 7 8]]\n",
            "Shape :  (3, 3)\n",
            "\n",
            "Column wise Max :  [6 7 8]\n",
            "Row    wise Max :  [2 5 8]\n"
          ],
          "name": "stdout"
        }
      ]
    },
    {
      "cell_type": "markdown",
      "metadata": {
        "id": "PpZ5tEuVq9y4"
      },
      "source": [
        "#### Min Function :\n",
        "This function return the minimum element(s) based on the axis specified, which can be wither row or column."
      ]
    },
    {
      "cell_type": "code",
      "metadata": {
        "id": "i5vz5vNpq9y9",
        "outputId": "cdb0ffcc-a5a0-48a7-da54-d033f167731b",
        "colab": {
          "base_uri": "https://localhost:8080/"
        }
      },
      "source": [
        "natural_nums = np.arange(9).reshape((3,3))    \n",
        "print(\"Numpy array : \\n\",natural_nums)\n",
        "print(\"Shape : \",natural_nums.shape)\n",
        "\n",
        "print()\n",
        "answer = np.min(natural_nums,axis=0)\n",
        "print(\"Column wise Max : \",answer)\n",
        "\n",
        "answer = np.min(natural_nums,axis=1)\n",
        "print(\"Row    wise Max : \",answer)"
      ],
      "execution_count": 67,
      "outputs": [
        {
          "output_type": "stream",
          "text": [
            "Numpy array : \n",
            " [[0 1 2]\n",
            " [3 4 5]\n",
            " [6 7 8]]\n",
            "Shape :  (3, 3)\n",
            "\n",
            "Column wise Max :  [0 1 2]\n",
            "Row    wise Max :  [0 3 6]\n"
          ],
          "name": "stdout"
        }
      ]
    },
    {
      "cell_type": "code",
      "metadata": {
        "id": "p23HL0tipDpr",
        "outputId": "c4b3c110-367f-4d92-df3e-ae3581618fc1",
        "colab": {
          "base_uri": "https://localhost:8080/"
        }
      },
      "source": [
        "np.median(natural_nums)"
      ],
      "execution_count": 68,
      "outputs": [
        {
          "output_type": "execute_result",
          "data": {
            "text/plain": [
              "4.0"
            ]
          },
          "metadata": {
            "tags": []
          },
          "execution_count": 68
        }
      ]
    },
    {
      "cell_type": "markdown",
      "metadata": {
        "id": "o2_RJt8yrQUc"
      },
      "source": [
        "#### Broadcasting :\n",
        "A powerful mechanism that allows us to work with different shape numpy arrays when performing arithmetic operations.\n",
        "\n",
        "Consider the example :"
      ]
    },
    {
      "cell_type": "code",
      "metadata": {
        "id": "3YdhbQt8r2-Z",
        "outputId": "1dc06263-fe60-455d-f524-21412b500845",
        "colab": {
          "base_uri": "https://localhost:8080/"
        }
      },
      "source": [
        "array1 = np.arange(9).reshape((3,3))\n",
        "array2 = np.array([100,0,100])\n",
        "print(\"array1 : \\n\",array1)\n",
        "print(\"array2 : \",array2)\n",
        "print(\"Shape array1 : \",array1.shape)\n",
        "print(\"Shape array2 : \",array2.shape)\n",
        "print()\n",
        "\n",
        "print(\"Result after addition: \")\n",
        "print()\n",
        "print(array1+array2)"
      ],
      "execution_count": 69,
      "outputs": [
        {
          "output_type": "stream",
          "text": [
            "array1 : \n",
            " [[0 1 2]\n",
            " [3 4 5]\n",
            " [6 7 8]]\n",
            "array2 :  [100   0 100]\n",
            "Shape array1 :  (3, 3)\n",
            "Shape array2 :  (3,)\n",
            "\n",
            "Result after addition: \n",
            "\n",
            "[[100   1 102]\n",
            " [103   4 105]\n",
            " [106   7 108]]\n"
          ],
          "name": "stdout"
        }
      ]
    },
    {
      "cell_type": "markdown",
      "metadata": {
        "id": "YdEVjmTDsxHi"
      },
      "source": [
        "array2 gets broad casted to :"
      ]
    },
    {
      "cell_type": "code",
      "metadata": {
        "id": "FFYuNpOBrLzh",
        "outputId": "9bcbb375-ad49-4ea1-97a1-12178b95ab5a",
        "colab": {
          "base_uri": "https://localhost:8080/"
        }
      },
      "source": [
        "broadcasted = np.array([array2,array2,array2])\n",
        "print(\"Broadcasted numpy array : \")\n",
        "print(broadcasted)"
      ],
      "execution_count": 70,
      "outputs": [
        {
          "output_type": "stream",
          "text": [
            "Broadcasted numpy array : \n",
            "[[100   0 100]\n",
            " [100   0 100]\n",
            " [100   0 100]]\n"
          ],
          "name": "stdout"
        }
      ]
    },
    {
      "cell_type": "code",
      "metadata": {
        "id": "BM_f-88iuNez",
        "outputId": "d19c2f13-3280-4ee4-c739-60580f003bf6",
        "colab": {
          "base_uri": "https://localhost:8080/"
        }
      },
      "source": [
        "array1+broadcasted"
      ],
      "execution_count": 71,
      "outputs": [
        {
          "output_type": "execute_result",
          "data": {
            "text/plain": [
              "array([[100,   1, 102],\n",
              "       [103,   4, 105],\n",
              "       [106,   7, 108]])"
            ]
          },
          "metadata": {
            "tags": []
          },
          "execution_count": 71
        }
      ]
    },
    {
      "cell_type": "markdown",
      "metadata": {
        "id": "Yd5MJoG36Cj8"
      },
      "source": [
        "...\n",
        "\n",
        "You have reached the end of this Notebook!\n",
        "\n",
        "<hr>"
      ]
    }
  ]
}